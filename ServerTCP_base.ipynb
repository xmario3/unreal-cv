{
 "cells": [
  {
   "cell_type": "code",
   "execution_count": null,
   "id": "a9d8f6cc",
   "metadata": {},
   "outputs": [
    {
     "name": "stdout",
     "output_type": "stream",
     "text": [
      "Pacchetti per secondo: 1\n",
      "b\"\\x1a*e.`3\\x00\\x00\\x19*e.`3\\x00\\x00\\x14*b._3\\x00\\x00\\x0f*`.]3\\x00\\x00\\x0e*_.]3\\x00\\x00\\x0c*^.]3\\x00\\x00\\x0b*].\\\\3\\x00\\x00\\r*\\\\.[3\\x00\\x00\\r*].Z3\\x00\\x00\\x0f*\\\\.Y3\\x00\\x00\\x0e*[.Y3\\x00\\x00\\x0c*[.X3\\x00\\x00\\t*Y.W3\\x00\\x00\\x06*X.V3\\x00\\x00\\x05*V.V3\\x00\\x00\\x02*U.V3\\x00\\x00\\xfd)S.T3\\x00\\x00\\xfa)Q.T3\\x00\\x00\\xf8)P.T3\\x00\\x00\\xf6)O.T3\\x00\\x00\\xf5)N.S3\\x00\\x00\\xf5)N.R3\\x00\\x00\\xf4)N.S3\\x00\\x00\\xf3)L.Q3\\x00\\x00\\xf1)L.Q3\\x00\\x00\\xef)K.Q3\\x00\\x00\\xef)J.Q3\\x00\\x00\\xef)I.O3\\x00\\x00\\xef)I.P3\\x00\\x00\\xf0)I.N3\\x00\\x00\\xf0)H.N3\\x00\\x00\\xf0)H.M3\\x00\\x00\\xf1)H.L3\\x00\\x00\\xf2)H.L3\\x00\\x00\\xf7)J.K3\\x00\\x00\\xf5)H.K3\\x00\\x00\\xf2)H.K3\\x00\\x00\\xee)E.K3\\x00\\x00\\xeb)D.J3\\x00\\x00\\xe9)C.J3\\x00\\x00\\xe7)B.J3\\x00\\x00\\xe6)A.J3\\x00\\x00\\xe5)A.J3\\x00\\x00\\xe4)@.I3\\x00\\x00\\xec)B.I3\\x00\\x00\\xfa)G.H3\\x00\\x00\\x0b*N.I3\\x00\\x00\\x1f*V.K3\\x00\\x000*].M3\\x00\\x00I*g.O3\\x00\\x00a*r.R3\\x00\\x00~*~.V3\\x00\\x00\\x80*\\x80.W3\\x00\\x00|*~.V3\\x00\\x00{*}.V3\\x00\\x00l*v.S3\\x00\\x00\\x81*\\x7f.V3\\x00\\x00\\x94*\\x87.Y3\\x00\\x00\\x9a*\\x8a.Y3\\x00\\x00y*{.T3\\x00\\x00Q*i.M3\\x00\\x000*[.H3\\x00\\x000*Z.I3\\x00\\x00_*n.O3\\x00\\x00\\x82*~.T3\\x00\\x00\\x95*\\x87.W3\\x00\\x00u*y.R3\\x00\\x00j*s.P3\\x00\\x00Z*l.N3\\x00\\x00F*c.K3\\x00\\x00N*f.K3\\x00\\x00S*h.M3\\x00\\x00(*U.F3\\x00\\x00\\x12*K.C3\\x00\\x00\\xfb)A.@3\\x00\\x00\\xee)<.@3\\x00\\x00\\xea)<.@3\\x00\\x00\\xed)<.?3\\x00\\x00\\xf1)=.?3\\x00\\x00\\xf9)@.@3\\x00\\x00\\x0c*H.B3\\x00\\x00'*S.D3\\x00\\x00E*a.H3\\x00\\x00a*m.K3\\x00\\x00N*d.I3\\x00\\x00\\x1f*P.B3\\x00\\x00/*V.D3\\x00\\x00\\x14*J.A3\\x00\\x00\\xfc)@.>3\\x00\\x00\\xf1)<.=3\\x00\\x00\\xe1)5.<3\\x00\\x00\\xd5)1.<3\\x00\\x00\\xd1)0.=3\\x00\\x00\\xcf)/.>3\\x00\\x00\\xce)..=3\\x00\\x00\\xce)..=3\\x00\\x00\\xce)..=3\\x00\\x00\\xce)..=3\\x00\\x00\\xce)-.=3\\x00\\x00\\xce)-.<3\\x00\\x00\\xcf)..;3\\x00\\x00\\xd3)/.:3\\x00\\x00\\xe3)5.:3\\x00\\x00\\xf1):.;3\\x00\\x00\\x03*B.<3\\x00\\x00\\x1d*L.?3\\x00\\x00\\xfa)=.;3\\x00\\x00\\xd9)0.:3\\x00\\x00\\xd1)..93\\x00\\x00\\xcf)-.:3\\x00\\x00\\xce),.:3\\x00\\x00\\xcc),.:3\\x00\\x00\\xcb),.;3\\x00\\x00\\xcc)+.93\\x00\\x00\\xcc)+.93\\x00\\x00\\xcb)+.:3\\x00\\x00\\xcb)+.93\\x00\\x00\\xcc)+.93\\x00\\x00\\xcd)+.83\\x00\\x00\\xcc)*.83\\x00\\x00\\xca)*.93\\x00\\x00\\xca)+.93\\x00\\x00\\xca)*.93\\x00\\x00\\xca)*.93\\x00\\x00\\xc9)*.93\\x00\\x00\\xc9)*.93\\x00\\x00\\xc9)*.93\\x00\\x00\\xc9)*.93\\x00\\x00\"\n"
     ]
    }
   ],
   "source": [
    "import numpy as np\n",
    "import socket\n",
    "from IPython.display import clear_output\n",
    "import threading\n",
    "\n",
    "\n",
    "HOST = \"127.0.0.1\"  # Standard loopback interface address (localhost)\n",
    "PORT = 4502  # Port to listen on (non-privileged ports are > 1023)\n",
    "\n",
    "contatorePacchetti = 0\n",
    "contatorePacchettiVecchio = 0\n",
    "pacchettiPerSecondo = 0\n",
    "\n",
    "def contatore():\n",
    "    clear_output(wait=True)\n",
    "    global contatorePacchettiVecchio\n",
    "    global pacchettiPerSecondo\n",
    "    #print(\"Pacchetti al secondo:\")\n",
    "    #print(contatorePacchetti-contatorePacchettiVecchio)\n",
    "    pacchettiPerSecondo = contatorePacchetti-contatorePacchettiVecchio\n",
    "    contatorePacchettiVecchio = contatorePacchetti\n",
    "    t = threading.Timer(1, contatore)\n",
    "    t.start()\n",
    " \n",
    "#### decommentare per avere il contatore\n",
    "contatore()\n",
    "\n",
    "with socket.socket(socket.AF_INET, socket.SOCK_STREAM) as s:\n",
    "    s.bind((HOST, PORT))\n",
    "    s.listen()\n",
    "    conn, addr = s.accept()\n",
    "    with conn:\n",
    "        print(f\"Connected by {addr}\")\n",
    "        while True:\n",
    "            \n",
    "            data = conn.recv(1024)\n",
    "            \n",
    "            if not data:\n",
    "                break\n",
    "            \n",
    "            contatorePacchetti+=1\n",
    "            \n",
    "            clear_output(wait=True)\n",
    "            print(f\"Pacchetti per secondo: {pacchettiPerSecondo}\")\n",
    "            print(data)\n",
    "            \n",
    "            #conn.sendall(data)   - se fosse un echo server"
   ]
  },
  {
   "cell_type": "code",
   "execution_count": null,
   "id": "c1c92fe0",
   "metadata": {},
   "outputs": [],
   "source": []
  }
 ],
 "metadata": {
  "kernelspec": {
   "display_name": "Python 3",
   "language": "python",
   "name": "python3"
  },
  "language_info": {
   "codemirror_mode": {
    "name": "ipython",
    "version": 3
   },
   "file_extension": ".py",
   "mimetype": "text/x-python",
   "name": "python",
   "nbconvert_exporter": "python",
   "pygments_lexer": "ipython3",
   "version": "3.6.13"
  }
 },
 "nbformat": 4,
 "nbformat_minor": 5
}
