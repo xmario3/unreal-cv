{
 "cells": [
  {
   "cell_type": "code",
   "execution_count": null,
   "id": "15aeaa62",
   "metadata": {},
   "outputs": [],
   "source": [
    "import socket\n",
    "\n",
    "s = socket.socket(socket.AF_INET, socket.SOCK_STREAM)\n",
    "\n",
    "\n",
    "data = bytes([2])\n",
    "\n",
    "\n",
    "s.connect((\"127.0.0.1\",4502))\n",
    "\n",
    "\n",
    "while True:\n",
    "    s.sendall(data)\n",
    "\n",
    "    data = s.recv(1024)\n",
    "    \n",
    "    data_p = int.from_bytes(data,\"big\")\n",
    "    \n",
    "    print(f\"Received {data_p}\")\n"
   ]
  },
  {
   "cell_type": "code",
   "execution_count": 1,
   "id": "dedba03d",
   "metadata": {},
   "outputs": [
    {
     "data": {
      "text/plain": [
       "b'\\x01'"
      ]
     },
     "execution_count": 1,
     "metadata": {},
     "output_type": "execute_result"
    }
   ],
   "source": [
    "bytes([1])"
   ]
  },
  {
   "cell_type": "code",
   "execution_count": null,
   "id": "2ca52fd5",
   "metadata": {},
   "outputs": [],
   "source": []
  }
 ],
 "metadata": {
  "kernelspec": {
   "display_name": "Python 3 (ipykernel)",
   "language": "python",
   "name": "python3"
  },
  "language_info": {
   "codemirror_mode": {
    "name": "ipython",
    "version": 3
   },
   "file_extension": ".py",
   "mimetype": "text/x-python",
   "name": "python",
   "nbconvert_exporter": "python",
   "pygments_lexer": "ipython3",
   "version": "3.9.7"
  }
 },
 "nbformat": 4,
 "nbformat_minor": 5
}
